{
 "cells": [
  {
   "cell_type": "markdown",
   "metadata": {},
   "source": [
    "# Bangladesh Crime Data from 2010 - 2019"
   ]
  },
  {
   "cell_type": "markdown",
   "metadata": {},
   "source": [
    "## Dataset\n",
    "[Crime Bangladesh](https://www.kaggle.com/datasets/talhabu/bangladesh-crime-data-from-2010-2019?select=crime_data_bangladesh.csv) From Kaggle"
   ]
  },
  {
   "cell_type": "markdown",
   "metadata": {},
   "source": [
    "## Import Libraries"
   ]
  },
  {
   "cell_type": "code",
   "execution_count": 1,
   "metadata": {},
   "outputs": [],
   "source": [
    "import numpy as np\n",
    "import pandas as pd\n",
    "from pathlib import Path"
   ]
  },
  {
   "cell_type": "markdown",
   "metadata": {},
   "source": [
    "## Read and verify dataset"
   ]
  },
  {
   "cell_type": "code",
   "execution_count": 2,
   "metadata": {},
   "outputs": [],
   "source": [
    "# reading file path\n",
    "file = Path(r\"../files/CrimeDataBD.csv\")\n",
    "\n",
    "# reading csv file\n",
    "df = pd.read_csv(file)"
   ]
  },
  {
   "cell_type": "code",
   "execution_count": 3,
   "metadata": {},
   "outputs": [
    {
     "data": {
      "text/html": [
       "<div>\n",
       "<style scoped>\n",
       "    .dataframe tbody tr th:only-of-type {\n",
       "        vertical-align: middle;\n",
       "    }\n",
       "\n",
       "    .dataframe tbody tr th {\n",
       "        vertical-align: top;\n",
       "    }\n",
       "\n",
       "    .dataframe thead th {\n",
       "        text-align: right;\n",
       "    }\n",
       "</style>\n",
       "<table border=\"1\" class=\"dataframe\">\n",
       "  <thead>\n",
       "    <tr style=\"text-align: right;\">\n",
       "      <th></th>\n",
       "      <th>area_name</th>\n",
       "      <th>year</th>\n",
       "      <th>dacoity</th>\n",
       "      <th>robbery</th>\n",
       "      <th>murder</th>\n",
       "      <th>speedy_trial</th>\n",
       "      <th>riot</th>\n",
       "      <th>woman_child_Repression</th>\n",
       "      <th>kidnapping</th>\n",
       "      <th>police_assault</th>\n",
       "      <th>burglary</th>\n",
       "      <th>theft</th>\n",
       "      <th>other_cases</th>\n",
       "      <th>recovery_cases_arms_act</th>\n",
       "      <th>recovery_cases_explosive</th>\n",
       "      <th>recovery_cases_narcotics</th>\n",
       "      <th>recovery_cases_smuggling</th>\n",
       "    </tr>\n",
       "  </thead>\n",
       "  <tbody>\n",
       "    <tr>\n",
       "      <th>0</th>\n",
       "      <td>dhaka metropolitan</td>\n",
       "      <td>2010</td>\n",
       "      <td>47</td>\n",
       "      <td>220</td>\n",
       "      <td>245</td>\n",
       "      <td>363</td>\n",
       "      <td>3</td>\n",
       "      <td>1370</td>\n",
       "      <td>139</td>\n",
       "      <td>155</td>\n",
       "      <td>555</td>\n",
       "      <td>1915</td>\n",
       "      <td>7228</td>\n",
       "      <td>518</td>\n",
       "      <td>82</td>\n",
       "      <td>10535</td>\n",
       "      <td>144</td>\n",
       "    </tr>\n",
       "    <tr>\n",
       "      <th>1</th>\n",
       "      <td>chittagong metropolitan</td>\n",
       "      <td>2010</td>\n",
       "      <td>16</td>\n",
       "      <td>108</td>\n",
       "      <td>94</td>\n",
       "      <td>31</td>\n",
       "      <td>7</td>\n",
       "      <td>455</td>\n",
       "      <td>37</td>\n",
       "      <td>31</td>\n",
       "      <td>123</td>\n",
       "      <td>314</td>\n",
       "      <td>1831</td>\n",
       "      <td>51</td>\n",
       "      <td>0</td>\n",
       "      <td>866</td>\n",
       "      <td>99</td>\n",
       "    </tr>\n",
       "    <tr>\n",
       "      <th>2</th>\n",
       "      <td>khulna metropolitan</td>\n",
       "      <td>2010</td>\n",
       "      <td>3</td>\n",
       "      <td>9</td>\n",
       "      <td>29</td>\n",
       "      <td>25</td>\n",
       "      <td>0</td>\n",
       "      <td>153</td>\n",
       "      <td>11</td>\n",
       "      <td>4</td>\n",
       "      <td>65</td>\n",
       "      <td>91</td>\n",
       "      <td>551</td>\n",
       "      <td>19</td>\n",
       "      <td>2</td>\n",
       "      <td>792</td>\n",
       "      <td>13</td>\n",
       "    </tr>\n",
       "    <tr>\n",
       "      <th>3</th>\n",
       "      <td>rajshahi metropolitan</td>\n",
       "      <td>2010</td>\n",
       "      <td>4</td>\n",
       "      <td>20</td>\n",
       "      <td>21</td>\n",
       "      <td>9</td>\n",
       "      <td>15</td>\n",
       "      <td>157</td>\n",
       "      <td>9</td>\n",
       "      <td>12</td>\n",
       "      <td>53</td>\n",
       "      <td>106</td>\n",
       "      <td>578</td>\n",
       "      <td>3</td>\n",
       "      <td>4</td>\n",
       "      <td>332</td>\n",
       "      <td>248</td>\n",
       "    </tr>\n",
       "    <tr>\n",
       "      <th>4</th>\n",
       "      <td>barisal metropolitan</td>\n",
       "      <td>2010</td>\n",
       "      <td>8</td>\n",
       "      <td>12</td>\n",
       "      <td>19</td>\n",
       "      <td>21</td>\n",
       "      <td>0</td>\n",
       "      <td>112</td>\n",
       "      <td>6</td>\n",
       "      <td>8</td>\n",
       "      <td>24</td>\n",
       "      <td>83</td>\n",
       "      <td>557</td>\n",
       "      <td>17</td>\n",
       "      <td>0</td>\n",
       "      <td>155</td>\n",
       "      <td>117</td>\n",
       "    </tr>\n",
       "  </tbody>\n",
       "</table>\n",
       "</div>"
      ],
      "text/plain": [
       "                 area_name  year  dacoity  robbery   murder  speedy_trial  \\\n",
       "0       dhaka metropolitan  2010       47       220     245           363   \n",
       "1  chittagong metropolitan  2010       16       108      94            31   \n",
       "2      khulna metropolitan  2010        3         9      29            25   \n",
       "3    rajshahi metropolitan  2010        4        20      21             9   \n",
       "4     barisal metropolitan  2010        8        12      19            21   \n",
       "\n",
       "   riot   woman_child_Repression  kidnapping  police_assault  burglary  theft  \\\n",
       "0      3                    1370         139             155       555   1915   \n",
       "1      7                     455          37              31       123    314   \n",
       "2      0                     153          11               4        65     91   \n",
       "3     15                     157           9              12        53    106   \n",
       "4      0                     112           6               8        24     83   \n",
       "\n",
       "   other_cases  recovery_cases_arms_act  recovery_cases_explosive  \\\n",
       "0         7228                      518                        82   \n",
       "1         1831                       51                         0   \n",
       "2          551                       19                         2   \n",
       "3          578                        3                         4   \n",
       "4          557                       17                         0   \n",
       "\n",
       "   recovery_cases_narcotics  recovery_cases_smuggling  \n",
       "0                     10535                       144  \n",
       "1                       866                        99  \n",
       "2                       792                        13  \n",
       "3                       332                       248  \n",
       "4                       155                       117  "
      ]
     },
     "execution_count": 3,
     "metadata": {},
     "output_type": "execute_result"
    }
   ],
   "source": [
    "# verify data loading\n",
    "df.head()"
   ]
  },
  {
   "cell_type": "markdown",
   "metadata": {},
   "source": [
    "# Understanding Dataset"
   ]
  },
  {
   "cell_type": "code",
   "execution_count": 4,
   "metadata": {},
   "outputs": [
    {
     "name": "stdout",
     "output_type": "stream",
     "text": [
      "Number of Rows: 146\n",
      "Number of Columns: 17\n"
     ]
    }
   ],
   "source": [
    "# shape of the dataset\n",
    "row, col = df.shape\n",
    "print(\"Number of Rows:\", row)\n",
    "print(\"Number of Columns:\", col)"
   ]
  },
  {
   "cell_type": "code",
   "execution_count": 5,
   "metadata": {},
   "outputs": [
    {
     "name": "stdout",
     "output_type": "stream",
     "text": [
      "<class 'pandas.core.frame.DataFrame'>\n",
      "RangeIndex: 146 entries, 0 to 145\n",
      "Data columns (total 17 columns):\n",
      " #   Column                    Non-Null Count  Dtype \n",
      "---  ------                    --------------  ----- \n",
      " 0   area_name                 146 non-null    object\n",
      " 1   year                      146 non-null    int64 \n",
      " 2   dacoity                   146 non-null    int64 \n",
      " 3   robbery                   146 non-null    int64 \n",
      " 4   murder                    146 non-null    int64 \n",
      " 5   speedy_trial              146 non-null    int64 \n",
      " 6   riot                      146 non-null    int64 \n",
      " 7   woman_child_Repression    146 non-null    int64 \n",
      " 8   kidnapping                146 non-null    int64 \n",
      " 9   police_assault            146 non-null    int64 \n",
      " 10  burglary                  146 non-null    int64 \n",
      " 11  theft                     146 non-null    int64 \n",
      " 12  other_cases               146 non-null    int64 \n",
      " 13  recovery_cases_arms_act   146 non-null    int64 \n",
      " 14  recovery_cases_explosive  146 non-null    int64 \n",
      " 15  recovery_cases_narcotics  146 non-null    int64 \n",
      " 16  recovery_cases_smuggling  146 non-null    int64 \n",
      "dtypes: int64(16), object(1)\n",
      "memory usage: 19.5+ KB\n"
     ]
    }
   ],
   "source": [
    "# dataset overview\n",
    "df.info()"
   ]
  },
  {
   "cell_type": "code",
   "execution_count": 6,
   "metadata": {},
   "outputs": [
    {
     "data": {
      "text/html": [
       "<div>\n",
       "<style scoped>\n",
       "    .dataframe tbody tr th:only-of-type {\n",
       "        vertical-align: middle;\n",
       "    }\n",
       "\n",
       "    .dataframe tbody tr th {\n",
       "        vertical-align: top;\n",
       "    }\n",
       "\n",
       "    .dataframe thead th {\n",
       "        text-align: right;\n",
       "    }\n",
       "</style>\n",
       "<table border=\"1\" class=\"dataframe\">\n",
       "  <thead>\n",
       "    <tr style=\"text-align: right;\">\n",
       "      <th></th>\n",
       "      <th>count</th>\n",
       "      <th>mean</th>\n",
       "      <th>std</th>\n",
       "      <th>min</th>\n",
       "      <th>25%</th>\n",
       "      <th>50%</th>\n",
       "      <th>75%</th>\n",
       "      <th>max</th>\n",
       "    </tr>\n",
       "  </thead>\n",
       "  <tbody>\n",
       "    <tr>\n",
       "      <th>year</th>\n",
       "      <td>146.0</td>\n",
       "      <td>2014.746575</td>\n",
       "      <td>2.900206</td>\n",
       "      <td>2010.0</td>\n",
       "      <td>2012.00</td>\n",
       "      <td>2015.0</td>\n",
       "      <td>2017.00</td>\n",
       "      <td>2019.0</td>\n",
       "    </tr>\n",
       "    <tr>\n",
       "      <th>dacoity</th>\n",
       "      <td>146.0</td>\n",
       "      <td>32.143836</td>\n",
       "      <td>42.779787</td>\n",
       "      <td>0.0</td>\n",
       "      <td>3.00</td>\n",
       "      <td>16.5</td>\n",
       "      <td>44.75</td>\n",
       "      <td>184.0</td>\n",
       "    </tr>\n",
       "    <tr>\n",
       "      <th>robbery</th>\n",
       "      <td>146.0</td>\n",
       "      <td>56.232877</td>\n",
       "      <td>62.354718</td>\n",
       "      <td>0.0</td>\n",
       "      <td>11.00</td>\n",
       "      <td>30.0</td>\n",
       "      <td>73.75</td>\n",
       "      <td>294.0</td>\n",
       "    </tr>\n",
       "    <tr>\n",
       "      <th>murder</th>\n",
       "      <td>146.0</td>\n",
       "      <td>248.856164</td>\n",
       "      <td>307.630342</td>\n",
       "      <td>0.0</td>\n",
       "      <td>24.25</td>\n",
       "      <td>142.5</td>\n",
       "      <td>348.00</td>\n",
       "      <td>1395.0</td>\n",
       "    </tr>\n",
       "    <tr>\n",
       "      <th>speedy_trial</th>\n",
       "      <td>146.0</td>\n",
       "      <td>93.589041</td>\n",
       "      <td>118.006351</td>\n",
       "      <td>0.0</td>\n",
       "      <td>9.25</td>\n",
       "      <td>51.5</td>\n",
       "      <td>131.75</td>\n",
       "      <td>563.0</td>\n",
       "    </tr>\n",
       "    <tr>\n",
       "      <th>riot</th>\n",
       "      <td>146.0</td>\n",
       "      <td>5.342466</td>\n",
       "      <td>8.881160</td>\n",
       "      <td>0.0</td>\n",
       "      <td>0.00</td>\n",
       "      <td>1.0</td>\n",
       "      <td>7.00</td>\n",
       "      <td>56.0</td>\n",
       "    </tr>\n",
       "    <tr>\n",
       "      <th>woman_child_Repression</th>\n",
       "      <td>146.0</td>\n",
       "      <td>1199.321918</td>\n",
       "      <td>1374.987965</td>\n",
       "      <td>0.0</td>\n",
       "      <td>124.25</td>\n",
       "      <td>600.0</td>\n",
       "      <td>1904.00</td>\n",
       "      <td>5115.0</td>\n",
       "    </tr>\n",
       "    <tr>\n",
       "      <th>kidnapping</th>\n",
       "      <td>146.0</td>\n",
       "      <td>46.260274</td>\n",
       "      <td>52.556709</td>\n",
       "      <td>0.0</td>\n",
       "      <td>7.00</td>\n",
       "      <td>20.5</td>\n",
       "      <td>68.75</td>\n",
       "      <td>204.0</td>\n",
       "    </tr>\n",
       "    <tr>\n",
       "      <th>police_assault</th>\n",
       "      <td>146.0</td>\n",
       "      <td>42.808219</td>\n",
       "      <td>55.310823</td>\n",
       "      <td>0.0</td>\n",
       "      <td>8.00</td>\n",
       "      <td>20.5</td>\n",
       "      <td>46.75</td>\n",
       "      <td>336.0</td>\n",
       "    </tr>\n",
       "    <tr>\n",
       "      <th>burglary</th>\n",
       "      <td>146.0</td>\n",
       "      <td>163.801370</td>\n",
       "      <td>189.123190</td>\n",
       "      <td>0.0</td>\n",
       "      <td>32.25</td>\n",
       "      <td>77.5</td>\n",
       "      <td>214.00</td>\n",
       "      <td>686.0</td>\n",
       "    </tr>\n",
       "    <tr>\n",
       "      <th>theft</th>\n",
       "      <td>146.0</td>\n",
       "      <td>454.527397</td>\n",
       "      <td>537.204144</td>\n",
       "      <td>2.0</td>\n",
       "      <td>78.00</td>\n",
       "      <td>259.0</td>\n",
       "      <td>545.00</td>\n",
       "      <td>2240.0</td>\n",
       "    </tr>\n",
       "    <tr>\n",
       "      <th>other_cases</th>\n",
       "      <td>146.0</td>\n",
       "      <td>5257.595890</td>\n",
       "      <td>5833.566608</td>\n",
       "      <td>9.0</td>\n",
       "      <td>493.25</td>\n",
       "      <td>3234.5</td>\n",
       "      <td>8468.25</td>\n",
       "      <td>22429.0</td>\n",
       "    </tr>\n",
       "    <tr>\n",
       "      <th>recovery_cases_arms_act</th>\n",
       "      <td>146.0</td>\n",
       "      <td>117.547945</td>\n",
       "      <td>150.240088</td>\n",
       "      <td>0.0</td>\n",
       "      <td>15.25</td>\n",
       "      <td>37.0</td>\n",
       "      <td>229.50</td>\n",
       "      <td>723.0</td>\n",
       "    </tr>\n",
       "    <tr>\n",
       "      <th>recovery_cases_explosive</th>\n",
       "      <td>146.0</td>\n",
       "      <td>35.547945</td>\n",
       "      <td>59.904186</td>\n",
       "      <td>0.0</td>\n",
       "      <td>2.00</td>\n",
       "      <td>9.5</td>\n",
       "      <td>50.50</td>\n",
       "      <td>387.0</td>\n",
       "    </tr>\n",
       "    <tr>\n",
       "      <th>recovery_cases_narcotics</th>\n",
       "      <td>146.0</td>\n",
       "      <td>3473.376712</td>\n",
       "      <td>4406.777896</td>\n",
       "      <td>44.0</td>\n",
       "      <td>451.50</td>\n",
       "      <td>1649.5</td>\n",
       "      <td>4574.50</td>\n",
       "      <td>22682.0</td>\n",
       "    </tr>\n",
       "    <tr>\n",
       "      <th>recovery_cases_smuggling</th>\n",
       "      <td>146.0</td>\n",
       "      <td>364.383562</td>\n",
       "      <td>580.318417</td>\n",
       "      <td>0.0</td>\n",
       "      <td>19.25</td>\n",
       "      <td>116.0</td>\n",
       "      <td>275.75</td>\n",
       "      <td>2509.0</td>\n",
       "    </tr>\n",
       "  </tbody>\n",
       "</table>\n",
       "</div>"
      ],
      "text/plain": [
       "                          count         mean          std     min      25%  \\\n",
       "year                      146.0  2014.746575     2.900206  2010.0  2012.00   \n",
       "dacoity                   146.0    32.143836    42.779787     0.0     3.00   \n",
       "robbery                   146.0    56.232877    62.354718     0.0    11.00   \n",
       "murder                    146.0   248.856164   307.630342     0.0    24.25   \n",
       "speedy_trial              146.0    93.589041   118.006351     0.0     9.25   \n",
       "riot                      146.0     5.342466     8.881160     0.0     0.00   \n",
       "woman_child_Repression    146.0  1199.321918  1374.987965     0.0   124.25   \n",
       "kidnapping                146.0    46.260274    52.556709     0.0     7.00   \n",
       "police_assault            146.0    42.808219    55.310823     0.0     8.00   \n",
       "burglary                  146.0   163.801370   189.123190     0.0    32.25   \n",
       "theft                     146.0   454.527397   537.204144     2.0    78.00   \n",
       "other_cases               146.0  5257.595890  5833.566608     9.0   493.25   \n",
       "recovery_cases_arms_act   146.0   117.547945   150.240088     0.0    15.25   \n",
       "recovery_cases_explosive  146.0    35.547945    59.904186     0.0     2.00   \n",
       "recovery_cases_narcotics  146.0  3473.376712  4406.777896    44.0   451.50   \n",
       "recovery_cases_smuggling  146.0   364.383562   580.318417     0.0    19.25   \n",
       "\n",
       "                             50%      75%      max  \n",
       "year                      2015.0  2017.00   2019.0  \n",
       "dacoity                     16.5    44.75    184.0  \n",
       "robbery                     30.0    73.75    294.0  \n",
       "murder                     142.5   348.00   1395.0  \n",
       "speedy_trial                51.5   131.75    563.0  \n",
       "riot                         1.0     7.00     56.0  \n",
       "woman_child_Repression     600.0  1904.00   5115.0  \n",
       "kidnapping                  20.5    68.75    204.0  \n",
       "police_assault              20.5    46.75    336.0  \n",
       "burglary                    77.5   214.00    686.0  \n",
       "theft                      259.0   545.00   2240.0  \n",
       "other_cases               3234.5  8468.25  22429.0  \n",
       "recovery_cases_arms_act     37.0   229.50    723.0  \n",
       "recovery_cases_explosive     9.5    50.50    387.0  \n",
       "recovery_cases_narcotics  1649.5  4574.50  22682.0  \n",
       "recovery_cases_smuggling   116.0   275.75   2509.0  "
      ]
     },
     "execution_count": 6,
     "metadata": {},
     "output_type": "execute_result"
    }
   ],
   "source": [
    "# dataset description\n",
    "df.describe().T"
   ]
  },
  {
   "cell_type": "markdown",
   "metadata": {},
   "source": [
    "# Sanity Check"
   ]
  },
  {
   "cell_type": "code",
   "execution_count": 7,
   "metadata": {},
   "outputs": [
    {
     "data": {
      "text/plain": [
       "Index(['area_name', 'year', 'dacoity', 'robbery ', 'murder', 'speedy_trial',\n",
       "       'riot ', 'woman_child_Repression', 'kidnapping', 'police_assault',\n",
       "       'burglary', 'theft', 'other_cases', 'recovery_cases_arms_act',\n",
       "       'recovery_cases_explosive', 'recovery_cases_narcotics',\n",
       "       'recovery_cases_smuggling'],\n",
       "      dtype='object')"
      ]
     },
     "execution_count": 7,
     "metadata": {},
     "output_type": "execute_result"
    }
   ],
   "source": [
    "df.columns"
   ]
  },
  {
   "cell_type": "markdown",
   "metadata": {},
   "source": [
    "## standardize column names"
   ]
  },
  {
   "cell_type": "code",
   "execution_count": 8,
   "metadata": {},
   "outputs": [
    {
     "data": {
      "text/plain": [
       "Index(['area_name', 'year', 'dacoity', 'robbery', 'murder', 'speedy_trial',\n",
       "       'riot', 'woman_child_Repression', 'kidnapping', 'police_assault',\n",
       "       'burglary', 'theft', 'other_cases', 'recovery_cases_arms_act',\n",
       "       'recovery_cases_explosive', 'recovery_cases_narcotics',\n",
       "       'recovery_cases_smuggling'],\n",
       "      dtype='object')"
      ]
     },
     "execution_count": 8,
     "metadata": {},
     "output_type": "execute_result"
    }
   ],
   "source": [
    "# remove leading and trailing spaces\n",
    "df.columns = df.columns.str.strip()\n",
    "\n",
    "df.columns"
   ]
  },
  {
   "cell_type": "code",
   "execution_count": 9,
   "metadata": {},
   "outputs": [
    {
     "data": {
      "text/plain": [
       "Index(['Area Name', 'Year', 'Dacoity', 'Robbery', 'Murder', 'Speedy Trial',\n",
       "       'Riot', 'Woman Child Repression', 'Kidnapping', 'Police Assault',\n",
       "       'Burglary', 'Theft', 'Other Cases', 'Recovery Cases Arms Act',\n",
       "       'Recovery Cases Explosive', 'Recovery Cases Narcotics',\n",
       "       'Recovery Cases Smuggling'],\n",
       "      dtype='object')"
      ]
     },
     "execution_count": 9,
     "metadata": {},
     "output_type": "execute_result"
    }
   ],
   "source": [
    "# clean column names\n",
    "df.columns = df.columns.str.replace(\"_\", \" \").str.title()\n",
    "\n",
    "df.columns"
   ]
  },
  {
   "cell_type": "code",
   "execution_count": 10,
   "metadata": {},
   "outputs": [],
   "source": [
    "# more clear and easy to column name\n",
    "df.rename(columns={\n",
    "    \"Area Name\" : \"Area\",\n",
    "    \"Riot\" : \"Violence\",\n",
    "    \"Woman Child Repression\" : \"Woman and Child Abuse\",\n",
    "}, inplace=True)"
   ]
  },
  {
   "cell_type": "code",
   "execution_count": 11,
   "metadata": {},
   "outputs": [],
   "source": [
    "# modifying column name\n",
    "\n",
    "# remove the word \"Cases\" containing 0 or more spaces before and after the word\n",
    "df.columns = df.columns.str.replace(r\"\\bCases\\b\", \"\", regex=True).str.replace(r\"\\s+\", \" \", regex=True).str.strip()"
   ]
  },
  {
   "cell_type": "code",
   "execution_count": 12,
   "metadata": {},
   "outputs": [
    {
     "data": {
      "text/plain": [
       "Index(['Area', 'Year', 'Dacoity', 'Robbery', 'Murder', 'Speedy Trial',\n",
       "       'Violence', 'Woman and Child Abuse', 'Kidnapping', 'Police Assault',\n",
       "       'Burglary', 'Theft', 'Other', 'Recovery Arms Act', 'Recovery Explosive',\n",
       "       'Recovery Narcotics', 'Recovery Smuggling'],\n",
       "      dtype='object')"
      ]
     },
     "execution_count": 12,
     "metadata": {},
     "output_type": "execute_result"
    }
   ],
   "source": [
    "# verify the columns name\n",
    "df.columns"
   ]
  },
  {
   "cell_type": "markdown",
   "metadata": {},
   "source": [
    "**EXPLANATION:**\n",
    "- **`r\"\\bCases\\b\"`** — matches the exact word \"Cases\" (not substrings like \"showcases\").\n",
    "\n",
    "- **`.str.replace(r\"\\s+\", \" \", regex=True)`** — replaces multiple spaces (like the extra one left after removing \"Cases\") with a single space.\n",
    "\n",
    "- **`.str.strip()`** — removes any leading or trailing spaces from column names after the cleanup."
   ]
  },
  {
   "cell_type": "markdown",
   "metadata": {},
   "source": [
    "## Check Duplicates"
   ]
  },
  {
   "cell_type": "code",
   "execution_count": 13,
   "metadata": {},
   "outputs": [
    {
     "data": {
      "text/plain": [
       "0"
      ]
     },
     "execution_count": 13,
     "metadata": {},
     "output_type": "execute_result"
    }
   ],
   "source": [
    "df.duplicated().sum()"
   ]
  },
  {
   "cell_type": "markdown",
   "metadata": {},
   "source": [
    "## Check Missing Values"
   ]
  },
  {
   "cell_type": "code",
   "execution_count": 14,
   "metadata": {},
   "outputs": [
    {
     "data": {
      "text/plain": [
       "Area                     False\n",
       "Year                     False\n",
       "Dacoity                  False\n",
       "Robbery                  False\n",
       "Murder                   False\n",
       "Speedy Trial             False\n",
       "Violence                 False\n",
       "Woman and Child Abuse    False\n",
       "Kidnapping               False\n",
       "Police Assault           False\n",
       "Burglary                 False\n",
       "Theft                    False\n",
       "Other                    False\n",
       "Recovery Arms Act        False\n",
       "Recovery Explosive       False\n",
       "Recovery Narcotics       False\n",
       "Recovery Smuggling       False\n",
       "dtype: bool"
      ]
     },
     "execution_count": 14,
     "metadata": {},
     "output_type": "execute_result"
    }
   ],
   "source": [
    "df.isnull().any()"
   ]
  },
  {
   "cell_type": "markdown",
   "metadata": {},
   "source": [
    "## Transformation\n",
    "adding a new column for calculating total cases per year"
   ]
  },
  {
   "cell_type": "code",
   "execution_count": 15,
   "metadata": {},
   "outputs": [],
   "source": [
    "df[\"Total Cases\"] = df[df.columns[2:]].sum(axis=1)"
   ]
  },
  {
   "cell_type": "markdown",
   "metadata": {},
   "source": [
    "## Final Check"
   ]
  },
  {
   "cell_type": "code",
   "execution_count": 16,
   "metadata": {},
   "outputs": [
    {
     "data": {
      "text/html": [
       "<div>\n",
       "<style scoped>\n",
       "    .dataframe tbody tr th:only-of-type {\n",
       "        vertical-align: middle;\n",
       "    }\n",
       "\n",
       "    .dataframe tbody tr th {\n",
       "        vertical-align: top;\n",
       "    }\n",
       "\n",
       "    .dataframe thead th {\n",
       "        text-align: right;\n",
       "    }\n",
       "</style>\n",
       "<table border=\"1\" class=\"dataframe\">\n",
       "  <thead>\n",
       "    <tr style=\"text-align: right;\">\n",
       "      <th></th>\n",
       "      <th>Area</th>\n",
       "      <th>Year</th>\n",
       "      <th>Dacoity</th>\n",
       "      <th>Robbery</th>\n",
       "      <th>Murder</th>\n",
       "      <th>Speedy Trial</th>\n",
       "      <th>Violence</th>\n",
       "      <th>Woman and Child Abuse</th>\n",
       "      <th>Kidnapping</th>\n",
       "      <th>Police Assault</th>\n",
       "      <th>Burglary</th>\n",
       "      <th>Theft</th>\n",
       "      <th>Other</th>\n",
       "      <th>Recovery Arms Act</th>\n",
       "      <th>Recovery Explosive</th>\n",
       "      <th>Recovery Narcotics</th>\n",
       "      <th>Recovery Smuggling</th>\n",
       "      <th>Total Cases</th>\n",
       "    </tr>\n",
       "  </thead>\n",
       "  <tbody>\n",
       "    <tr>\n",
       "      <th>0</th>\n",
       "      <td>dhaka metropolitan</td>\n",
       "      <td>2010</td>\n",
       "      <td>47</td>\n",
       "      <td>220</td>\n",
       "      <td>245</td>\n",
       "      <td>363</td>\n",
       "      <td>3</td>\n",
       "      <td>1370</td>\n",
       "      <td>139</td>\n",
       "      <td>155</td>\n",
       "      <td>555</td>\n",
       "      <td>1915</td>\n",
       "      <td>7228</td>\n",
       "      <td>518</td>\n",
       "      <td>82</td>\n",
       "      <td>10535</td>\n",
       "      <td>144</td>\n",
       "      <td>23519</td>\n",
       "    </tr>\n",
       "    <tr>\n",
       "      <th>1</th>\n",
       "      <td>chittagong metropolitan</td>\n",
       "      <td>2010</td>\n",
       "      <td>16</td>\n",
       "      <td>108</td>\n",
       "      <td>94</td>\n",
       "      <td>31</td>\n",
       "      <td>7</td>\n",
       "      <td>455</td>\n",
       "      <td>37</td>\n",
       "      <td>31</td>\n",
       "      <td>123</td>\n",
       "      <td>314</td>\n",
       "      <td>1831</td>\n",
       "      <td>51</td>\n",
       "      <td>0</td>\n",
       "      <td>866</td>\n",
       "      <td>99</td>\n",
       "      <td>4063</td>\n",
       "    </tr>\n",
       "    <tr>\n",
       "      <th>2</th>\n",
       "      <td>khulna metropolitan</td>\n",
       "      <td>2010</td>\n",
       "      <td>3</td>\n",
       "      <td>9</td>\n",
       "      <td>29</td>\n",
       "      <td>25</td>\n",
       "      <td>0</td>\n",
       "      <td>153</td>\n",
       "      <td>11</td>\n",
       "      <td>4</td>\n",
       "      <td>65</td>\n",
       "      <td>91</td>\n",
       "      <td>551</td>\n",
       "      <td>19</td>\n",
       "      <td>2</td>\n",
       "      <td>792</td>\n",
       "      <td>13</td>\n",
       "      <td>1767</td>\n",
       "    </tr>\n",
       "    <tr>\n",
       "      <th>3</th>\n",
       "      <td>rajshahi metropolitan</td>\n",
       "      <td>2010</td>\n",
       "      <td>4</td>\n",
       "      <td>20</td>\n",
       "      <td>21</td>\n",
       "      <td>9</td>\n",
       "      <td>15</td>\n",
       "      <td>157</td>\n",
       "      <td>9</td>\n",
       "      <td>12</td>\n",
       "      <td>53</td>\n",
       "      <td>106</td>\n",
       "      <td>578</td>\n",
       "      <td>3</td>\n",
       "      <td>4</td>\n",
       "      <td>332</td>\n",
       "      <td>248</td>\n",
       "      <td>1571</td>\n",
       "    </tr>\n",
       "    <tr>\n",
       "      <th>4</th>\n",
       "      <td>barisal metropolitan</td>\n",
       "      <td>2010</td>\n",
       "      <td>8</td>\n",
       "      <td>12</td>\n",
       "      <td>19</td>\n",
       "      <td>21</td>\n",
       "      <td>0</td>\n",
       "      <td>112</td>\n",
       "      <td>6</td>\n",
       "      <td>8</td>\n",
       "      <td>24</td>\n",
       "      <td>83</td>\n",
       "      <td>557</td>\n",
       "      <td>17</td>\n",
       "      <td>0</td>\n",
       "      <td>155</td>\n",
       "      <td>117</td>\n",
       "      <td>1139</td>\n",
       "    </tr>\n",
       "  </tbody>\n",
       "</table>\n",
       "</div>"
      ],
      "text/plain": [
       "                      Area  Year  Dacoity  Robbery  Murder  Speedy Trial  \\\n",
       "0       dhaka metropolitan  2010       47      220     245           363   \n",
       "1  chittagong metropolitan  2010       16      108      94            31   \n",
       "2      khulna metropolitan  2010        3        9      29            25   \n",
       "3    rajshahi metropolitan  2010        4       20      21             9   \n",
       "4     barisal metropolitan  2010        8       12      19            21   \n",
       "\n",
       "   Violence  Woman and Child Abuse  Kidnapping  Police Assault  Burglary  \\\n",
       "0         3                   1370         139             155       555   \n",
       "1         7                    455          37              31       123   \n",
       "2         0                    153          11               4        65   \n",
       "3        15                    157           9              12        53   \n",
       "4         0                    112           6               8        24   \n",
       "\n",
       "   Theft  Other  Recovery Arms Act  Recovery Explosive  Recovery Narcotics  \\\n",
       "0   1915   7228                518                  82               10535   \n",
       "1    314   1831                 51                   0                 866   \n",
       "2     91    551                 19                   2                 792   \n",
       "3    106    578                  3                   4                 332   \n",
       "4     83    557                 17                   0                 155   \n",
       "\n",
       "   Recovery Smuggling  Total Cases  \n",
       "0                 144        23519  \n",
       "1                  99         4063  \n",
       "2                  13         1767  \n",
       "3                 248         1571  \n",
       "4                 117         1139  "
      ]
     },
     "execution_count": 16,
     "metadata": {},
     "output_type": "execute_result"
    }
   ],
   "source": [
    "df.head()"
   ]
  },
  {
   "cell_type": "code",
   "execution_count": 17,
   "metadata": {},
   "outputs": [
    {
     "name": "stdout",
     "output_type": "stream",
     "text": [
      "<class 'pandas.core.frame.DataFrame'>\n",
      "RangeIndex: 146 entries, 0 to 145\n",
      "Data columns (total 18 columns):\n",
      " #   Column                 Non-Null Count  Dtype \n",
      "---  ------                 --------------  ----- \n",
      " 0   Area                   146 non-null    object\n",
      " 1   Year                   146 non-null    int64 \n",
      " 2   Dacoity                146 non-null    int64 \n",
      " 3   Robbery                146 non-null    int64 \n",
      " 4   Murder                 146 non-null    int64 \n",
      " 5   Speedy Trial           146 non-null    int64 \n",
      " 6   Violence               146 non-null    int64 \n",
      " 7   Woman and Child Abuse  146 non-null    int64 \n",
      " 8   Kidnapping             146 non-null    int64 \n",
      " 9   Police Assault         146 non-null    int64 \n",
      " 10  Burglary               146 non-null    int64 \n",
      " 11  Theft                  146 non-null    int64 \n",
      " 12  Other                  146 non-null    int64 \n",
      " 13  Recovery Arms Act      146 non-null    int64 \n",
      " 14  Recovery Explosive     146 non-null    int64 \n",
      " 15  Recovery Narcotics     146 non-null    int64 \n",
      " 16  Recovery Smuggling     146 non-null    int64 \n",
      " 17  Total Cases            146 non-null    int64 \n",
      "dtypes: int64(17), object(1)\n",
      "memory usage: 20.7+ KB\n"
     ]
    }
   ],
   "source": [
    "df.info()"
   ]
  },
  {
   "cell_type": "markdown",
   "metadata": {},
   "source": [
    "# Save The Output"
   ]
  },
  {
   "cell_type": "code",
   "execution_count": 20,
   "metadata": {},
   "outputs": [],
   "source": [
    "file = Path(r\"../files/CrimeDataBD_Cleaned.csv\")\n",
    "df.to_csv(file)"
   ]
  }
 ],
 "metadata": {
  "kernelspec": {
   "display_name": "Python 3",
   "language": "python",
   "name": "python3"
  },
  "language_info": {
   "codemirror_mode": {
    "name": "ipython",
    "version": 3
   },
   "file_extension": ".py",
   "mimetype": "text/x-python",
   "name": "python",
   "nbconvert_exporter": "python",
   "pygments_lexer": "ipython3",
   "version": "3.8.5"
  }
 },
 "nbformat": 4,
 "nbformat_minor": 4
}
